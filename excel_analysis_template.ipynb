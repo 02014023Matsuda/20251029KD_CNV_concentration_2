{
 "cells": [
  {
   "cell_type": "markdown",
   "id": "f828eb33",
   "metadata": {},
   "source": [
    "# Excelデータの読み込みと可視化\n",
    "このNotebookでは、Excelファイル（sample.xlsx）を読み込み、データの表示とグラフ描画を行います。"
   ]
  },
  {
   "cell_type": "code",
   "execution_count": null,
   "id": "ad3be04a",
   "metadata": {},
   "outputs": [],
   "source": [
    "import pandas as pd\n",
    "import matplotlib.pyplot as plt"
   ]
  },
  {
   "cell_type": "code",
   "execution_count": null,
   "id": "f9a56940",
   "metadata": {},
   "outputs": [],
   "source": [
    "# Excelファイルの読み込み\n",
    "df = pd.read_excel('sample.xlsx', engine='openpyxl')\n",
    "df.head()"
   ]
  },
  {
   "cell_type": "code",
   "execution_count": null,
   "id": "e7bc4d1a",
   "metadata": {},
   "outputs": [],
   "source": [
    "# グラフの描画（Date列とValue列を使用）\n",
    "plt.figure(figsize=(10, 5))\n",
    "plt.plot(df['Date'], df['Value'], marker='o')\n",
    "plt.title('Value over Time')\n",
    "plt.xlabel('Date')\n",
    "plt.ylabel('Value')\n",
    "plt.grid(True)\n",
    "plt.show()"
   ]
  }
 ],
 "metadata": {},
 "nbformat": 4,
 "nbformat_minor": 5
}
